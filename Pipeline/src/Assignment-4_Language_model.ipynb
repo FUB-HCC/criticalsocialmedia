{
 "cells": [
  {
   "cell_type": "markdown",
   "metadata": {
    "id": "iFXsrSxJlzCW"
   },
   "source": [
    "#Introduction\n",
    "\n",
    ".....\n"
   ]
  },
  {
   "cell_type": "markdown",
   "metadata": {},
   "source": [
    "Check to see if jupyter lab uses the correct python interpreter with '!which python'.\n",
    "It should be something like '/opt/anaconda3/envs/[environment name]/bin/python' (on Mac).\n",
    "If not, try this: https://github.com/jupyter/notebook/issues/3146#issuecomment-352718675"
   ]
  },
  {
   "cell_type": "code",
   "execution_count": 1,
   "metadata": {},
   "outputs": [
    {
     "name": "stdout",
     "output_type": "stream",
     "text": [
      "/opt/anaconda3/envs/csma/bin/python\n"
     ]
    }
   ],
   "source": [
    "!which python"
   ]
  },
  {
   "cell_type": "markdown",
   "metadata": {},
   "source": [
    "# Install dependencies:"
   ]
  },
  {
   "cell_type": "code",
<<<<<<< HEAD
   "execution_count": 4,
=======
   "execution_count": 2,
>>>>>>> 8c148accf8c0e9845ad079be272c86c86e8fcee2
   "metadata": {
    "colab": {
     "base_uri": "https://localhost:8080/"
    },
    "id": "H0q7BTlbiCWW",
    "outputId": "32ddd123-4834-4913-f942-038e830d9276"
   },
   "outputs": [
    {
     "name": "stdout",
     "output_type": "stream",
     "text": [
      "Collecting package metadata (current_repodata.json): done\n",
      "Solving environment: done\n",
      "\n",
<<<<<<< HEAD
      "\n",
      "==> WARNING: A newer version of conda exists. <==\n",
      "  current version: 4.8.2\n",
      "  latest version: 4.9.2\n",
      "\n",
      "Please update conda by running\n",
      "\n",
      "    $ conda update -n base -c defaults conda\n",
      "\n",
      "\n",
      "\n",
      "## Package Plan ##\n",
      "\n",
      "  environment location: /opt/anaconda3/envs/csma\n",
=======
      "## Package Plan ##\n",
      "\n",
      "  environment location: /opt/anaconda3/envs/csma3\n",
>>>>>>> 8c148accf8c0e9845ad079be272c86c86e8fcee2
      "\n",
      "  added / updated specs:\n",
      "    - tensorflow=2\n",
      "\n",
      "\n",
      "The following packages will be downloaded:\n",
      "\n",
      "    package                    |            build\n",
      "    ---------------------------|-----------------\n",
      "    ca-certificates-2020.10.14 |                0         121 KB\n",
      "    openssl-1.1.1h             |       haf1e3a3_0         2.2 MB\n",
      "    ------------------------------------------------------------\n",
      "                                           Total:         2.3 MB\n",
      "\n",
      "The following packages will be UPDATED:\n",
      "\n",
      "  certifi                anaconda::certifi-2020.6.20-py36_0 --> pkgs/main::certifi-2020.11.8-py36hecd8cb5_0\n",
      "\n",
      "The following packages will be SUPERSEDED by a higher-priority channel:\n",
      "\n",
      "  ca-certificates                                  anaconda --> pkgs/main\n",
      "  openssl                                          anaconda --> pkgs/main\n",
      "\n",
      "\n",
      "\n",
      "Downloading and Extracting Packages\n",
<<<<<<< HEAD
      "openssl-1.1.1h       | 2.2 MB    | ##################################### | 100% \n",
      "ca-certificates-2020 | 121 KB    | ##################################### | 100% \n",
=======
      "ca-certificates-2020 | 121 KB    | ##################################### | 100% \n",
      "openssl-1.1.1h       | 2.2 MB    | ##################################### | 100% \n",
>>>>>>> 8c148accf8c0e9845ad079be272c86c86e8fcee2
      "Preparing transaction: done\n",
      "Verifying transaction: done\n",
      "Executing transaction: done\n",
      "Collecting package metadata (current_repodata.json): done\n",
      "Solving environment: done\n",
      "\n",
<<<<<<< HEAD
      "\n",
      "==> WARNING: A newer version of conda exists. <==\n",
      "  current version: 4.8.2\n",
      "  latest version: 4.9.2\n",
      "\n",
      "Please update conda by running\n",
      "\n",
      "    $ conda update -n base -c defaults conda\n",
      "\n",
      "\n",
      "\n",
      "## Package Plan ##\n",
      "\n",
      "  environment location: /opt/anaconda3/envs/csma\n",
=======
      "## Package Plan ##\n",
      "\n",
      "  environment location: /opt/anaconda3/envs/csma3\n",
>>>>>>> 8c148accf8c0e9845ad079be272c86c86e8fcee2
      "\n",
      "  added / updated specs:\n",
      "    - pandas\n",
      "\n",
      "\n",
      "The following packages will be downloaded:\n",
      "\n",
      "    package                    |            build\n",
      "    ---------------------------|-----------------\n",
      "    ca-certificates-2020.10.14 |                0         127 KB  anaconda\n",
      "    openssl-1.1.1h             |       haf1e3a3_0         3.4 MB  anaconda\n",
      "    ------------------------------------------------------------\n",
      "                                           Total:         3.6 MB\n",
      "\n",
      "The following packages will be SUPERSEDED by a higher-priority channel:\n",
      "\n",
      "  ca-certificates                                 pkgs/main --> anaconda\n",
      "  certifi            pkgs/main::certifi-2020.11.8-py36hecd~ --> anaconda::certifi-2020.6.20-py36_0\n",
      "  openssl                                         pkgs/main --> anaconda\n",
      "\n",
      "\n",
      "\n",
      "Downloading and Extracting Packages\n",
      "ca-certificates-2020 | 127 KB    | ##################################### | 100% \n",
      "openssl-1.1.1h       | 3.4 MB    | ##################################### | 100% \n",
      "Preparing transaction: done\n",
      "Verifying transaction: done\n",
      "Executing transaction: done\n",
      "Collecting package metadata (current_repodata.json): done\n",
      "Solving environment: done\n",
      "\n",
<<<<<<< HEAD
      "\n",
      "==> WARNING: A newer version of conda exists. <==\n",
      "  current version: 4.8.2\n",
      "  latest version: 4.9.2\n",
      "\n",
      "Please update conda by running\n",
      "\n",
      "    $ conda update -n base -c defaults conda\n",
      "\n",
      "\n",
      "\n",
      "## Package Plan ##\n",
      "\n",
      "  environment location: /opt/anaconda3/envs/csma\n",
=======
      "## Package Plan ##\n",
      "\n",
      "  environment location: /opt/anaconda3/envs/csma3\n",
>>>>>>> 8c148accf8c0e9845ad079be272c86c86e8fcee2
      "\n",
      "  added / updated specs:\n",
      "    - tensorflow-hub\n",
      "\n",
      "\n",
      "The following packages will be downloaded:\n",
      "\n",
      "    package                    |            build\n",
      "    ---------------------------|-----------------\n",
      "    openssl-1.1.1h             |       haf1e3a3_0         1.9 MB  conda-forge\n",
      "    ------------------------------------------------------------\n",
      "                                           Total:         1.9 MB\n",
      "\n",
      "The following packages will be UPDATED:\n",
      "\n",
      "  ca-certificates    anaconda::ca-certificates-2020.10.14-0 --> conda-forge::ca-certificates-2020.11.8-h033912b_0\n",
      "  certifi                anaconda::certifi-2020.6.20-py36_0 --> conda-forge::certifi-2020.11.8-py36h79c6626_0\n",
      "\n",
      "The following packages will be SUPERSEDED by a higher-priority channel:\n",
      "\n",
      "  openssl                                          anaconda --> conda-forge\n",
      "\n",
      "\n",
      "\n",
      "Downloading and Extracting Packages\n",
      "openssl-1.1.1h       | 1.9 MB    | ##################################### | 100% \n",
      "Preparing transaction: done\n",
      "Verifying transaction: done\n",
      "Executing transaction: done\n",
      "Collecting package metadata (current_repodata.json): done\n",
      "Solving environment: done\n",
      "\n",
<<<<<<< HEAD
      "\n",
      "==> WARNING: A newer version of conda exists. <==\n",
      "  current version: 4.8.2\n",
      "  latest version: 4.9.2\n",
      "\n",
      "Please update conda by running\n",
      "\n",
      "    $ conda update -n base -c defaults conda\n",
      "\n",
      "\n",
      "\n",
      "## Package Plan ##\n",
      "\n",
      "  environment location: /opt/anaconda3/envs/csma\n",
=======
      "## Package Plan ##\n",
      "\n",
      "  environment location: /opt/anaconda3/envs/csma3\n",
>>>>>>> 8c148accf8c0e9845ad079be272c86c86e8fcee2
      "\n",
      "  added / updated specs:\n",
      "    - html2text\n",
      "\n",
      "\n",
<<<<<<< HEAD
      "The following packages will be SUPERSEDED by a higher-priority channel:\n",
      "\n",
      "  certifi            conda-forge::certifi-2020.11.8-py36h7~ --> pkgs/main::certifi-2020.11.8-py36hecd8cb5_0\n",
      "\n",
      "\n",
=======
      "The following packages will be downloaded:\n",
      "\n",
      "    package                    |            build\n",
      "    ---------------------------|-----------------\n",
      "    ca-certificates-2020.10.14 |                0         121 KB\n",
      "    openssl-1.1.1h             |       haf1e3a3_0         2.2 MB\n",
      "    ------------------------------------------------------------\n",
      "                                           Total:         2.3 MB\n",
      "\n",
      "The following packages will be SUPERSEDED by a higher-priority channel:\n",
      "\n",
      "  ca-certificates    conda-forge::ca-certificates-2020.11.~ --> pkgs/main::ca-certificates-2020.10.14-0\n",
      "  certifi            conda-forge::certifi-2020.11.8-py36h7~ --> pkgs/main::certifi-2020.11.8-py36hecd8cb5_0\n",
      "  openssl                                       conda-forge --> pkgs/main\n",
      "\n",
      "\n",
      "\n",
      "Downloading and Extracting Packages\n",
      "ca-certificates-2020 | 121 KB    | ##################################### | 100% \n",
      "openssl-1.1.1h       | 2.2 MB    | ##################################### | 100% \n",
>>>>>>> 8c148accf8c0e9845ad079be272c86c86e8fcee2
      "Preparing transaction: done\n",
      "Verifying transaction: done\n",
      "Executing transaction: done\n",
      "Collecting package metadata (current_repodata.json): done\n",
      "Solving environment: done\n",
      "\n",
<<<<<<< HEAD
      "\n",
      "==> WARNING: A newer version of conda exists. <==\n",
      "  current version: 4.8.2\n",
      "  latest version: 4.9.2\n",
      "\n",
      "Please update conda by running\n",
      "\n",
      "    $ conda update -n base -c defaults conda\n",
      "\n",
      "\n",
      "\n",
      "## Package Plan ##\n",
      "\n",
      "  environment location: /opt/anaconda3/envs/csma\n",
      "\n",
      "  added / updated specs:\n",
      "    - tqdm\n",
      "\n",
=======
      "## Package Plan ##\n",
      "\n",
      "  environment location: /opt/anaconda3/envs/csma3\n",
      "\n",
      "  added / updated specs:\n",
      "    - tqdm\n",
      "\n",
      "\n",
      "The following packages will be downloaded:\n",
      "\n",
      "    package                    |            build\n",
      "    ---------------------------|-----------------\n",
      "    openssl-1.1.1h             |       haf1e3a3_0         1.9 MB  conda-forge\n",
      "    ------------------------------------------------------------\n",
      "                                           Total:         1.9 MB\n",
      "\n",
      "The following packages will be UPDATED:\n",
      "\n",
      "  ca-certificates    pkgs/main::ca-certificates-2020.10.14~ --> conda-forge::ca-certificates-2020.11.8-h033912b_0\n",
>>>>>>> 8c148accf8c0e9845ad079be272c86c86e8fcee2
      "\n",
      "The following packages will be SUPERSEDED by a higher-priority channel:\n",
      "\n",
      "  certifi            pkgs/main::certifi-2020.11.8-py36hecd~ --> conda-forge::certifi-2020.11.8-py36h79c6626_0\n",
<<<<<<< HEAD
      "\n",
      "\n",
=======
      "  openssl                                         pkgs/main --> conda-forge\n",
      "\n",
      "\n",
      "\n",
      "Downloading and Extracting Packages\n",
      "openssl-1.1.1h       | 1.9 MB    | ##################################### | 100% \n",
>>>>>>> 8c148accf8c0e9845ad079be272c86c86e8fcee2
      "Preparing transaction: done\n",
      "Verifying transaction: done\n",
      "Executing transaction: done\n",
      "Collecting package metadata (current_repodata.json): done\n",
      "Solving environment: done\n",
      "\n",
<<<<<<< HEAD
      "\n",
      "==> WARNING: A newer version of conda exists. <==\n",
      "  current version: 4.8.2\n",
      "  latest version: 4.9.2\n",
      "\n",
      "Please update conda by running\n",
      "\n",
      "    $ conda update -n base -c defaults conda\n",
      "\n",
      "\n",
      "\n",
      "## Package Plan ##\n",
      "\n",
      "  environment location: /opt/anaconda3/envs/csma\n",
=======
      "## Package Plan ##\n",
      "\n",
      "  environment location: /opt/anaconda3/envs/csma3\n",
>>>>>>> 8c148accf8c0e9845ad079be272c86c86e8fcee2
      "\n",
      "  added / updated specs:\n",
      "    - scikit-learn\n",
      "\n",
      "\n",
      "The following packages will be downloaded:\n",
      "\n",
      "    package                    |            build\n",
      "    ---------------------------|-----------------\n",
<<<<<<< HEAD
      "    openssl-1.1.1h             |       haf1e3a3_0         3.4 MB  anaconda\n",
      "    ------------------------------------------------------------\n",
      "                                           Total:         3.4 MB\n",
=======
      "    ca-certificates-2020.10.14 |                0         127 KB  anaconda\n",
      "    openssl-1.1.1h             |       haf1e3a3_0         3.4 MB  anaconda\n",
      "    ------------------------------------------------------------\n",
      "                                           Total:         3.6 MB\n",
>>>>>>> 8c148accf8c0e9845ad079be272c86c86e8fcee2
      "\n",
      "The following packages will be SUPERSEDED by a higher-priority channel:\n",
      "\n",
      "  ca-certificates    conda-forge::ca-certificates-2020.11.~ --> anaconda::ca-certificates-2020.10.14-0\n",
      "  certifi            conda-forge::certifi-2020.11.8-py36h7~ --> anaconda::certifi-2020.6.20-py36_0\n",
      "  openssl                                       conda-forge --> anaconda\n",
      "\n",
      "\n",
      "\n",
      "Downloading and Extracting Packages\n",
      "openssl-1.1.1h       | 3.4 MB    | ##################################### | 100% \n",
<<<<<<< HEAD
=======
      "ca-certificates-2020 | 127 KB    | ##################################### | 100% \n",
>>>>>>> 8c148accf8c0e9845ad079be272c86c86e8fcee2
      "Preparing transaction: done\n",
      "Verifying transaction: done\n",
      "Executing transaction: done\n",
      "Collecting package metadata (current_repodata.json): done\n",
      "Solving environment: done\n",
      "\n",
<<<<<<< HEAD
      "\n",
      "==> WARNING: A newer version of conda exists. <==\n",
      "  current version: 4.8.2\n",
      "  latest version: 4.9.2\n",
      "\n",
      "Please update conda by running\n",
      "\n",
      "    $ conda update -n base -c defaults conda\n",
      "\n",
      "\n",
      "\n",
      "## Package Plan ##\n",
      "\n",
      "  environment location: /opt/anaconda3/envs/csma\n",
=======
      "## Package Plan ##\n",
      "\n",
      "  environment location: /opt/anaconda3/envs/csma3\n",
>>>>>>> 8c148accf8c0e9845ad079be272c86c86e8fcee2
      "\n",
      "  added / updated specs:\n",
      "    - matplotlib\n",
      "\n",
      "\n",
      "The following packages will be downloaded:\n",
      "\n",
      "    package                    |            build\n",
      "    ---------------------------|-----------------\n",
      "    openssl-1.1.1h             |       haf1e3a3_0         1.9 MB  conda-forge\n",
      "    ------------------------------------------------------------\n",
      "                                           Total:         1.9 MB\n",
      "\n",
      "The following packages will be UPDATED:\n",
      "\n",
      "  ca-certificates    anaconda::ca-certificates-2020.10.14-0 --> conda-forge::ca-certificates-2020.11.8-h033912b_0\n",
      "  certifi                anaconda::certifi-2020.6.20-py36_0 --> conda-forge::certifi-2020.11.8-py36h79c6626_0\n",
      "\n",
      "The following packages will be SUPERSEDED by a higher-priority channel:\n",
      "\n",
      "  openssl                                          anaconda --> conda-forge\n",
      "\n",
      "\n",
      "\n",
      "Downloading and Extracting Packages\n",
      "openssl-1.1.1h       | 1.9 MB    | ##################################### | 100% \n",
      "Preparing transaction: done\n",
      "Verifying transaction: done\n",
      "Executing transaction: done\n",
      "Collecting package metadata (current_repodata.json): done\n",
      "Solving environment: done\n",
      "\n",
<<<<<<< HEAD
      "\n",
      "==> WARNING: A newer version of conda exists. <==\n",
      "  current version: 4.8.2\n",
      "  latest version: 4.9.2\n",
      "\n",
      "Please update conda by running\n",
      "\n",
      "    $ conda update -n base -c defaults conda\n",
      "\n",
      "\n",
      "\n",
      "## Package Plan ##\n",
      "\n",
      "  environment location: /opt/anaconda3/envs/csma\n",
=======
      "## Package Plan ##\n",
      "\n",
      "  environment location: /opt/anaconda3/envs/csma3\n",
>>>>>>> 8c148accf8c0e9845ad079be272c86c86e8fcee2
      "\n",
      "  added / updated specs:\n",
      "    - seaborn\n",
      "\n",
      "\n",
      "The following packages will be downloaded:\n",
      "\n",
      "    package                    |            build\n",
      "    ---------------------------|-----------------\n",
      "    openssl-1.1.1h             |       haf1e3a3_0         3.4 MB  anaconda\n",
      "    ------------------------------------------------------------\n",
      "                                           Total:         3.4 MB\n",
      "\n",
      "The following packages will be SUPERSEDED by a higher-priority channel:\n",
      "\n",
      "  ca-certificates    conda-forge::ca-certificates-2020.11.~ --> anaconda::ca-certificates-2020.10.14-0\n",
      "  certifi            conda-forge::certifi-2020.11.8-py36h7~ --> anaconda::certifi-2020.6.20-py36_0\n",
      "  openssl                                       conda-forge --> anaconda\n",
      "\n",
      "\n",
      "\n",
      "Downloading and Extracting Packages\n",
      "openssl-1.1.1h       | 3.4 MB    | ##################################### | 100% \n",
      "Preparing transaction: done\n",
      "Verifying transaction: done\n",
      "Executing transaction: done\n"
     ]
    }
   ],
   "source": [
    "install_packages = True\n",
    "if install_packages:\n",
    "    !conda install tensorflow=2 -y\n",
    "    !conda install -c anaconda pandas -y\n",
    "    !conda install -c conda-forge tensorflow-hub -y\n",
    "    !conda install -c akode html2text -y\n",
    "    !conda install -c conda-forge tqdm -y\n",
    "    !conda install -c anaconda scikit-learn -y\n",
    "    !conda install -c conda-forge matplotlib -y\n",
    "    !conda install -c anaconda seaborn -y"
   ]
  },
  {
   "cell_type": "markdown",
   "metadata": {},
   "source": [
    "# Imports"
   ]
  },
  {
   "cell_type": "code",
<<<<<<< HEAD
   "execution_count": 6,
=======
   "execution_count": 8,
>>>>>>> 8c148accf8c0e9845ad079be272c86c86e8fcee2
   "metadata": {
    "id": "xD4HKjy9TC-g"
   },
   "outputs": [],
   "source": [
    "#imports\n",
    "import pandas as pd\n",
    "import numpy as np\n",
    "import os\n",
    "import time\n",
    "import tensorflow as tf\n",
    "import tensorflow_hub as hub\n",
    "import zipfile\n",
    "from html2text import HTML2Text\n",
    "from tqdm import tqdm\n",
    "import re\n",
    "from sklearn.metrics import pairwise_distances\n",
    "from sklearn.preprocessing import normalize\n",
    "import matplotlib.pyplot as plt\n",
    "import seaborn as sns"
   ]
  },
  {
   "cell_type": "markdown",
   "metadata": {},
   "source": [
    "# Set pandas print options\n",
    "This will improve readability of printed pandas dataframe.\n"
   ]
  },
  {
   "cell_type": "code",
<<<<<<< HEAD
   "execution_count": 7,
=======
   "execution_count": 4,
>>>>>>> 8c148accf8c0e9845ad079be272c86c86e8fcee2
   "metadata": {
    "id": "SEH28FctS6SP"
   },
   "outputs": [],
   "source": [
    "pd.set_option('display.max_rows', None)\n",
    "pd.set_option('display.max_columns', None)\n",
    "pd.set_option('display.width', None)\n",
    "pd.set_option('display.max_colwidth', None)"
   ]
  },
  {
   "cell_type": "markdown",
   "metadata": {},
   "source": [
    "## Set global Parameters\n",
    "Set your parameters here:\n",
    "\n",
    "data_path: In this path put the data you have downloaded with YouTube Data Tools. \n",
    "output_path: Tghe files generated in this notebook will be saved here.\n",
    "\n",
    "url_dict: URLs to models on Tensorflow hub are saved here. Other models are available there.\n",
    "model_type: Define which model you would like to use. Choose one from url_dict\n",
    "\n",
    "new_embeddings: If this is true, new embeddings will be generated and saved at output_path. Otherwise, embeddings are loaded from Disc.\n",
    "\n",
    "\n"
   ]
  },
  {
   "cell_type": "code",
<<<<<<< HEAD
   "execution_count": 30,
=======
   "execution_count": 17,
>>>>>>> 8c148accf8c0e9845ad079be272c86c86e8fcee2
   "metadata": {
    "id": "TL7Rvq_TD086"
   },
   "outputs": [],
   "source": [
    "data_path = './data/videoinfo__JHUwp35wqg&t_2020_10_29-09_24_57_comments.tab'\n",
    "output_path = \"./output/\"\n",
    "\n",
    "new_embeddings = True\n",
    "\n",
    "url_dict = {\n",
    "            'Transformer' : \"https://tfhub.dev/google/universal-sentence-encoder-large/5\",\n",
    "            'DAN' : \"https://tfhub.dev/google/universal-sentence-encoder/4\",\n",
    "            'Transformer_Multilingual': \"https://tfhub.dev/google/universal-sentence-encoder-multilingual-large/3\"\n",
    "}\n",
    "\n",
    "model_type = 'Transformer_Multilingual' #@param ['DAN','Transformer','Transformer_Multilingual']"
   ]
  },
  {
   "cell_type": "markdown",
   "metadata": {},
   "source": [
    "## Create output directory\n",
    "Try to create the directory defined by output_path"
   ]
  },
  {
   "cell_type": "code",
<<<<<<< HEAD
   "execution_count": 15,
=======
   "execution_count": 10,
>>>>>>> 8c148accf8c0e9845ad079be272c86c86e8fcee2
   "metadata": {
    "colab": {
     "base_uri": "https://localhost:8080/"
    },
    "id": "NuvhsxjlZFhu",
    "outputId": "436a89b3-9ae8-4f74-f236-4a3f55b64d6d"
   },
   "outputs": [
    {
     "name": "stdout",
     "output_type": "stream",
     "text": [
      "Creation of the directory ./output/ failed\n"
     ]
    }
   ],
   "source": [
    "try:\n",
    "   os.mkdir(output_path)\n",
    "except OSError:\n",
    "  print (\"Creation of the directory %s failed\" % output_path)\n",
    "else:\n",
    "  print (\"Successfully created the directory %s \" % output_path)\n"
   ]
  },
  {
   "cell_type": "markdown",
   "metadata": {
    "id": "VO9QOLP_9DxJ"
   },
   "source": [
    "# Load Data\n",
    "Load you data as a pandas dataframe"
   ]
  },
  {
   "cell_type": "code",
<<<<<<< HEAD
   "execution_count": 16,
=======
   "execution_count": 11,
>>>>>>> 8c148accf8c0e9845ad079be272c86c86e8fcee2
   "metadata": {},
   "outputs": [],
   "source": [
    "if new_embeddings:\n",
    "    data = pd.read_csv(data_path,sep='\\t',header=(0))\n",
    "    data.head()"
   ]
  },
  {
   "cell_type": "markdown",
   "metadata": {
    "id": "_IUWISh1M5nz"
   },
   "source": [
    "# Preprocessing\n",
    "Preprocess your data:\n",
    "- Drop empty rows\n",
    "- Drop unused columns"
   ]
  },
  {
   "cell_type": "code",
<<<<<<< HEAD
   "execution_count": 17,
=======
   "execution_count": 12,
>>>>>>> 8c148accf8c0e9845ad079be272c86c86e8fcee2
   "metadata": {
    "id": "gbU3mk83MBIH"
   },
   "outputs": [],
   "source": [
    "if new_embeddings:\n",
    "    data = data.dropna(subset=['text', 'authorName']) # drop rows with no content\n",
    "    data=data.drop(['id', 'replyCount','likeCount','authorChannelUrl','authorChannelId','isReplyTo','isReplyToName'],axis=1) # drop unused columns\n",
    "    data.head()"
   ]
  },
  {
   "cell_type": "markdown",
   "metadata": {},
   "source": [
    "- remove HTML-tags, links and usernames"
   ]
  },
  {
   "cell_type": "code",
<<<<<<< HEAD
   "execution_count": 18,
=======
   "execution_count": 13,
>>>>>>> 8c148accf8c0e9845ad079be272c86c86e8fcee2
   "metadata": {
    "id": "vIgxEvzcM39J"
   },
   "outputs": [
    {
     "name": "stderr",
     "output_type": "stream",
     "text": [
<<<<<<< HEAD
      "100%|██████████| 753/753 [00:00<00:00, 1527.44it/s]\n"
=======
      "100%|██████████| 25914/25914 [00:03<00:00, 8283.88it/s]\n"
>>>>>>> 8c148accf8c0e9845ad079be272c86c86e8fcee2
     ]
    },
    {
     "name": "stdout",
     "output_type": "stream",
     "text": [
      "Removed HTML Tags.\n",
      "Removed Links.\n",
      "Removed user names.\n"
     ]
    }
   ],
   "source": [
    "if new_embeddings:\n",
    "    # Remove HTML tags\n",
    "    tqdm.pandas()\n",
    "    h = HTML2Text()\n",
    "    h.ignore_links = True\n",
    "    data['cleaned'] = data['text'].progress_apply(lambda x: h.handle(x))\n",
    "    print( \"Removed HTML Tags.\")\n",
    "\n",
    "    # Remove links\n",
    "    http_link_pattern = r'http\\S+'\n",
    "    bitly_link_pattern = r'bit.ly/\\S+'\n",
    "    data['cleaned'] = data['cleaned'].str.replace(http_link_pattern, '')\n",
    "    data['cleaned'] = data['cleaned'].str.replace(bitly_link_pattern, '')\n",
    "    print( \"Removed Links.\")\n",
    "\n",
    "    # Remove user names\n",
    "    keep_names = [\"earth\", \"Tide\", \"Geologist\", \"A Person\", \"Titanic\", \"adventure\", \"Sun\", \"The United States Of America\"] # user names we want to keep\n",
    "    user_names = [name for name in data['authorName'].unique() if (len(name)> 3 and name not in keep_names)]\n",
    "    data['cleaned'] = data['cleaned'].str.replace('|'.join(map(re.escape, user_names)), '')\n",
    "    print( \"Removed user names.\")"
   ]
  },
  {
   "cell_type": "markdown",
   "metadata": {},
   "source": [
    "# Save or Load preprocessed data\n",
    "\n",
    "Save your data afte preprocessing, or load preprocessed data from disc."
   ]
  },
  {
   "cell_type": "code",
<<<<<<< HEAD
   "execution_count": 19,
=======
   "execution_count": 14,
>>>>>>> 8c148accf8c0e9845ad079be272c86c86e8fcee2
   "metadata": {
    "colab": {
     "base_uri": "https://localhost:8080/"
    },
    "id": "W0uP3D5IXvyT",
    "outputId": "ce705b12-d180-438e-8bb7-86a5dfffbdcf"
   },
   "outputs": [
    {
     "data": {
      "text/html": [
       "<div>\n",
       "<style scoped>\n",
       "    .dataframe tbody tr th:only-of-type {\n",
       "        vertical-align: middle;\n",
       "    }\n",
       "\n",
       "    .dataframe tbody tr th {\n",
       "        vertical-align: top;\n",
       "    }\n",
       "\n",
       "    .dataframe thead th {\n",
       "        text-align: right;\n",
       "    }\n",
       "</style>\n",
       "<table border=\"1\" class=\"dataframe\">\n",
       "  <thead>\n",
       "    <tr style=\"text-align: right;\">\n",
       "      <th></th>\n",
       "      <th>publishedAt</th>\n",
       "      <th>authorName</th>\n",
       "      <th>text</th>\n",
       "      <th>isReply</th>\n",
       "      <th>cleaned</th>\n",
       "    </tr>\n",
       "  </thead>\n",
       "  <tbody>\n",
       "    <tr>\n",
       "      <th>0</th>\n",
<<<<<<< HEAD
       "      <td>2020-10-24 08:31:22</td>\n",
       "      <td>Chris Leon</td>\n",
       "      <td>Liebe Naomi erst einmal herzlichen Dank für dieses Video! &lt;br /&gt;Ich habe gestern erst &amp;quot;zufällig&amp;quot; deine Klarstellung zum PCR-Test entdeckt. Und heute finde ich dieses Video von dir. Danke, das du uns zeigst das es noch echte Menschen gibt!&lt;br /&gt;Es wird Zeit auch all die &amp;quot;Epsteins&amp;quot; in Deutschland ans Licht zu bringen.</td>\n",
       "      <td>0</td>\n",
       "      <td>Liebe Naomi erst einmal herzlichen Dank für dieses Video!  \\nIch habe gestern erst \"zufällig\" deine Klarstellung zum PCR-Test entdeckt. Und\\nheute finde ich dieses Video von dir. Danke, das du uns zeigst das es noch\\nechte Menschen gibt!  \\nEs wird Zeit auch all die \"Epsteins\" in Deutschland ans Licht zu bringen.\\n\\n</td>\n",
       "    </tr>\n",
       "    <tr>\n",
       "      <th>1</th>\n",
       "      <td>2020-10-13 22:24:09</td>\n",
       "      <td>JACQUELINE BERNARDI</td>\n",
       "      <td>Du bist so jung, aber schön zu sehen wie sehend und aufgeklärt du schon bist! 👏👏👏</td>\n",
       "      <td>0</td>\n",
       "      <td>Du bist so jung, aber schön zu sehen wie sehend und aufgeklärt du schon bist!\\n👏👏👏\\n\\n</td>\n",
       "    </tr>\n",
       "    <tr>\n",
       "      <th>2</th>\n",
       "      <td>2020-09-13 02:04:44</td>\n",
       "      <td>K J</td>\n",
       "      <td>Boah wie konnte ich erst jetzt was von ihr mitkriegen...</td>\n",
       "      <td>0</td>\n",
       "      <td>Boah wie konnte ich erst jetzt was von ihr mitkriegen...\\n\\n</td>\n",
       "    </tr>\n",
       "    <tr>\n",
       "      <th>3</th>\n",
       "      <td>2020-08-21 17:25:43</td>\n",
       "      <td>Schulte Maier</td>\n",
       "      <td>Hast Du einen Elektroschocker im Hintergrund am laufen?</td>\n",
       "      <td>0</td>\n",
       "      <td>Hast Du einen Elektroschocker im Hintergrund am laufen?\\n\\n</td>\n",
       "    </tr>\n",
       "    <tr>\n",
       "      <th>4</th>\n",
       "      <td>2020-08-13 05:47:03</td>\n",
       "      <td>nicole</td>\n",
       "      <td>ok why are there 2 minutes of silence starting at &lt;a href=\"https://www.youtube.com/watch?v=_JHUwp35wqg&amp;amp;t=9m00s\"&gt;9:00&lt;/a&gt;..........................seems like a game.</td>\n",
       "      <td>0</td>\n",
       "      <td>ok why are there 2 minutes of silence starting at\\n9:00..........................seems like a game.\\n\\n</td>\n",
=======
       "      <td>2020-01-16 09:01:08</td>\n",
       "      <td>Lee McLellan</td>\n",
       "      <td>If all the ice melts surely the tilt of the earth will also change because of the weight diffrence at both poles ? And would this affect the land mass to change also?</td>\n",
       "      <td>0</td>\n",
       "      <td>If all the ice melts surely the tilt of the earth will also change because of\\nthe weight diffrence at both poles ? And would this affect the land mass to\\nchange also?\\n\\n</td>\n",
       "    </tr>\n",
       "    <tr>\n",
       "      <th>1</th>\n",
       "      <td>2020-01-16 06:16:07</td>\n",
       "      <td>Aakash Majumdar</td>\n",
       "      <td>The scariest part of the video is the music..... How dramatic the music is...</td>\n",
       "      <td>0</td>\n",
       "      <td>The scariest part of the video is the music..... How dramatic the music is...\\n\\n</td>\n",
       "    </tr>\n",
       "    <tr>\n",
       "      <th>2</th>\n",
       "      <td>2020-01-15 10:50:21</td>\n",
       "      <td>Glenn Davies</td>\n",
       "      <td>New Zealand be like...&amp;quot;are we good?&amp;quot; 🤷‍♂️</td>\n",
       "      <td>0</td>\n",
       "      <td>New Zealand be like...\"are we good?\" 🤷‍♂️\\n\\n</td>\n",
       "    </tr>\n",
       "    <tr>\n",
       "      <th>3</th>\n",
       "      <td>2020-01-15 08:35:50</td>\n",
       "      <td>Shane Meyer</td>\n",
       "      <td>Step #1: Taxes... Step #2: ???... Step #3: Utopia</td>\n",
       "      <td>0</td>\n",
       "      <td>Step #1: Taxes... Step #2: ???... Step #3: Utopia\\n\\n</td>\n",
       "    </tr>\n",
       "    <tr>\n",
       "      <th>4</th>\n",
       "      <td>2020-01-15 02:00:30</td>\n",
       "      <td>Rennie Allen</td>\n",
       "      <td>Strange how Hudson&amp;#39;s Bay stayed the same size.</td>\n",
       "      <td>0</td>\n",
       "      <td>Strange how Hudson's Bay stayed the same size.\\n\\n</td>\n",
>>>>>>> 8c148accf8c0e9845ad079be272c86c86e8fcee2
       "    </tr>\n",
       "  </tbody>\n",
       "</table>\n",
       "</div>"
      ],
      "text/plain": [
<<<<<<< HEAD
       "           publishedAt           authorName  \\\n",
       "0  2020-10-24 08:31:22           Chris Leon   \n",
       "1  2020-10-13 22:24:09  JACQUELINE BERNARDI   \n",
       "2  2020-09-13 02:04:44                  K J   \n",
       "3  2020-08-21 17:25:43        Schulte Maier   \n",
       "4  2020-08-13 05:47:03               nicole   \n",
       "\n",
       "                                                                                                                                                                                                                                                                                                                                                text  \\\n",
       "0  Liebe Naomi erst einmal herzlichen Dank für dieses Video! <br />Ich habe gestern erst &quot;zufällig&quot; deine Klarstellung zum PCR-Test entdeckt. Und heute finde ich dieses Video von dir. Danke, das du uns zeigst das es noch echte Menschen gibt!<br />Es wird Zeit auch all die &quot;Epsteins&quot; in Deutschland ans Licht zu bringen.   \n",
       "1                                                                                                                                                                                                                                                                  Du bist so jung, aber schön zu sehen wie sehend und aufgeklärt du schon bist! 👏👏👏   \n",
       "2                                                                                                                                                                                                                                                                                           Boah wie konnte ich erst jetzt was von ihr mitkriegen...   \n",
       "3                                                                                                                                                                                                                                                                                            Hast Du einen Elektroschocker im Hintergrund am laufen?   \n",
       "4                                                                                                                                                                           ok why are there 2 minutes of silence starting at <a href=\"https://www.youtube.com/watch?v=_JHUwp35wqg&amp;t=9m00s\">9:00</a>..........................seems like a game.   \n",
=======
       "           publishedAt       authorName  \\\n",
       "0  2020-01-16 09:01:08     Lee McLellan   \n",
       "1  2020-01-16 06:16:07  Aakash Majumdar   \n",
       "2  2020-01-15 10:50:21     Glenn Davies   \n",
       "3  2020-01-15 08:35:50      Shane Meyer   \n",
       "4  2020-01-15 02:00:30     Rennie Allen   \n",
       "\n",
       "                                                                                                                                                                     text  \\\n",
       "0  If all the ice melts surely the tilt of the earth will also change because of the weight diffrence at both poles ? And would this affect the land mass to change also?   \n",
       "1                                                                                           The scariest part of the video is the music..... How dramatic the music is...   \n",
       "2                                                                                                                     New Zealand be like...&quot;are we good?&quot; 🤷‍♂️   \n",
       "3                                                                                                                       Step #1: Taxes... Step #2: ???... Step #3: Utopia   \n",
       "4                                                                                                                      Strange how Hudson&#39;s Bay stayed the same size.   \n",
>>>>>>> 8c148accf8c0e9845ad079be272c86c86e8fcee2
       "\n",
       "   isReply  \\\n",
       "0        0   \n",
       "1        0   \n",
       "2        0   \n",
       "3        0   \n",
       "4        0   \n",
       "\n",
<<<<<<< HEAD
       "                                                                                                                                                                                                                                                                                                                          cleaned  \n",
       "0  Liebe Naomi erst einmal herzlichen Dank für dieses Video!  \\nIch habe gestern erst \"zufällig\" deine Klarstellung zum PCR-Test entdeckt. Und\\nheute finde ich dieses Video von dir. Danke, das du uns zeigst das es noch\\nechte Menschen gibt!  \\nEs wird Zeit auch all die \"Epsteins\" in Deutschland ans Licht zu bringen.\\n\\n  \n",
       "1                                                                                                                                                                                                                                          Du bist so jung, aber schön zu sehen wie sehend und aufgeklärt du schon bist!\\n👏👏👏\\n\\n  \n",
       "2                                                                                                                                                                                                                                                                    Boah wie konnte ich erst jetzt was von ihr mitkriegen...\\n\\n  \n",
       "3                                                                                                                                                                                                                                                                     Hast Du einen Elektroschocker im Hintergrund am laufen?\\n\\n  \n",
       "4                                                                                                                                                                                                                         ok why are there 2 minutes of silence starting at\\n9:00..........................seems like a game.\\n\\n  "
      ]
     },
     "execution_count": 19,
=======
       "                                                                                                                                                                        cleaned  \n",
       "0  If all the ice melts surely the tilt of the earth will also change because of\\nthe weight diffrence at both poles ? And would this affect the land mass to\\nchange also?\\n\\n  \n",
       "1                                                                                             The scariest part of the video is the music..... How dramatic the music is...\\n\\n  \n",
       "2                                                                                                                                 New Zealand be like...\"are we good?\" 🤷‍♂️\\n\\n  \n",
       "3                                                                                                                         Step #1: Taxes... Step #2: ???... Step #3: Utopia\\n\\n  \n",
       "4                                                                                                                            Strange how Hudson's Bay stayed the same size.\\n\\n  "
      ]
     },
     "execution_count": 14,
>>>>>>> 8c148accf8c0e9845ad079be272c86c86e8fcee2
     "metadata": {},
     "output_type": "execute_result"
    }
   ],
   "source": [
    "if new_embeddings:\n",
    "  data.to_pickle(output_path+'data_preprocessed'+'.pkl')\n",
    "else:\n",
    "  data = pd.read_pickle(output_path+'data_preprocessed'+'.pkl')\n",
    "data.head()"
   ]
  },
  {
   "cell_type": "markdown",
   "metadata": {
    "id": "5YxXP5PtAFyV"
   },
   "source": [
    "# Produce Text Embeddings with Universal Sentence Encoder"
   ]
  },
  {
   "cell_type": "markdown",
   "metadata": {
    "id": "d_sStH0bXhFD"
   },
   "source": [
    "## Load Model\n",
    "Load the model from TF-hub"
   ]
  },
  {
   "cell_type": "code",
<<<<<<< HEAD
   "execution_count": 20,
=======
   "execution_count": 19,
>>>>>>> 8c148accf8c0e9845ad079be272c86c86e8fcee2
   "metadata": {
    "id": "ugb89Xy7XdqR"
   },
   "outputs": [
    {
     "name": "stdout",
     "output_type": "stream",
     "text": [
      "Loading model. This will take some time...\n"
     ]
    }
   ],
   "source": [
    "hub_url = url_dict[model_type]\n",
    "if new_embeddings:\n",
    "  print(\"Loading model. This will take some time...\")\n",
    "  embed = hub.load(hub_url)"
   ]
  },
  {
   "cell_type": "markdown",
   "metadata": {},
   "source": [
    "## Embed Documents\n",
    "Produce embeddings of your documents."
   ]
  },
  {
   "cell_type": "code",
<<<<<<< HEAD
   "execution_count": 21,
=======
   "execution_count": 20,
>>>>>>> 8c148accf8c0e9845ad079be272c86c86e8fcee2
   "metadata": {
    "id": "Yz3Qlca7YGEN"
   },
   "outputs": [
    {
     "name": "stdout",
     "output_type": "stream",
     "text": [
<<<<<<< HEAD
      "1 2 3 The embeddings vector is of fixed length 512\n"
=======
      "1 2 3 4 5 6 7 8 9 10 11 12 13 14 15 16 17 18 19 20 21 22 23 24 25 26 27 28 29 30 31 32 33 34 35 36 37 38 39 40 41 42 43 44 45 46 47 48 49 50 51 52 53 54 55 56 57 58 59 60 61 62 63 64 65 66 67 68 69 70 71 72 73 74 75 76 77 78 79 80 81 82 83 84 85 86 87 88 89 90 91 92 93 94 95 96 97 98 99 100 101 102 103 104 105 106 107 108 109 110 111 112 113 114 115 116 117 118 119 120 121 122 123 124 125 126 127 128 129 The embeddings vector is of fixed length 512\n"
>>>>>>> 8c148accf8c0e9845ad079be272c86c86e8fcee2
     ]
    },
    {
     "data": {
      "text/plain": [
<<<<<<< HEAD
       "TensorShape([753, 512])"
      ]
     },
     "execution_count": 21,
=======
       "TensorShape([25914, 512])"
      ]
     },
     "execution_count": 20,
>>>>>>> 8c148accf8c0e9845ad079be272c86c86e8fcee2
     "metadata": {},
     "output_type": "execute_result"
    }
   ],
   "source": [
    "if new_embeddings:\n",
    "    for k,g in data.groupby(np.arange(len(data))//200):\n",
    "        if k == 0:\n",
    "            embeddings = embed(g['cleaned'])\n",
    "        else:\n",
    "            embeddings_new = embed(g['cleaned'])\n",
    "            embeddings = tf.concat(values=[embeddings,embeddings_new],axis = 0)\n",
    "            print(k , end =\" \")\n",
    "    print(\"The embeddings vector is of fixed length {}\".format(embeddings.shape[1]))\n",
    "\n",
    "    np.save(output_path+'/embeddings'+model_type+'.npy', embeddings, allow_pickle=True, fix_imports=True)\n",
    "else:\n",
    "    embeddings = np.load(output_path+'/embeddings'+model_type+'.npy', mmap_mode=None, allow_pickle=False, fix_imports=True, encoding='ASCII')\n",
    "\n",
    "embeddings.shape"
   ]
  },
  {
   "cell_type": "markdown",
   "metadata": {
    "id": "oFTi_5lUAnJF"
   },
   "source": [
    "## Calculate Similarity Matrix with angular distance\n",
    "\n",
    "'Following Cer et al. (2018), we first compute\n",
    "the sentence embeddings u, v for an STS sentence\n",
    "pair, and then score the sentence pair similarity\n",
    "based on the angular distance between the two\n",
    "embedding vectors  d = − arccos (uv/||u|| ||v||\u0011).'"
   ]
  },
  {
   "cell_type": "code",
<<<<<<< HEAD
   "execution_count": 22,
=======
   "execution_count": 21,
>>>>>>> 8c148accf8c0e9845ad079be272c86c86e8fcee2
   "metadata": {},
   "outputs": [
    {
     "name": "stdout",
     "output_type": "stream",
     "text": [
      "[[ 1.0000002   0.50713193  0.5387315  ... -0.01133404 -0.02323806\n",
      "   0.39951718]\n",
      " [ 0.50713193  1.          0.60482943 ...  0.05533025 -0.01215524\n",
      "   0.53622156]\n",
      " [ 0.5387315   0.60482943  1.0000001  ...  0.04656633 -0.01888812\n",
      "   0.6504121 ]\n",
      " ...\n",
      " [-0.01133404  0.05533025  0.04656633 ...  1.          0.27968785\n",
      "   0.07624739]\n",
      " [-0.02323806 -0.01215524 -0.01888812 ...  0.27968785  1.\n",
      "  -0.02073905]\n",
      " [ 0.39951718  0.53622156  0.6504121  ...  0.07624739 -0.02073905\n",
      "   1.0000001 ]]\n"
     ]
    }
   ],
   "source": [
    "from sklearn.metrics.pairwise import cosine_similarity\n",
    "def cos_sim(input_vectors):\n",
    "    similarity = cosine_similarity(input_vectors)\n",
    "    return similarity\n",
    "cosine_similarity_matrix = cos_sim(np.array(embeddings))\n",
    "print(cosine_similarity_matrix)"
   ]
  },
  {
   "cell_type": "markdown",
   "metadata": {},
   "source": [
    "# Plots Similarity \n",
    "Plot and print a heat map showing the semantic contextual similarity between comments."
   ]
  },
  {
   "cell_type": "code",
<<<<<<< HEAD
   "execution_count": 27,
=======
   "execution_count": 22,
>>>>>>> 8c148accf8c0e9845ad079be272c86c86e8fcee2
   "metadata": {},
   "outputs": [
    {
     "data": {
      "image/png": "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\n",
      "text/plain": [
       "<Figure size 432x288 with 2 Axes>"
      ]
     },
     "metadata": {},
     "output_type": "display_data"
    }
   ],
   "source": [
    "import seaborn as sns\n",
    "def plot_similarity(labels, features, rotation):\n",
    "  corr = np.inner(features, features)\n",
    "  sns.set(font_scale=1.2)\n",
    "  g = sns.heatmap(\n",
    "      corr,\n",
    "      xticklabels=labels,\n",
    "      yticklabels=labels,\n",
    "      vmin=0,\n",
    "      vmax=1,\n",
    "      cmap=\"YlOrRd\")\n",
    "  g.set_xticklabels(labels, rotation=rotation)\n",
    "  g.set_title(\"Semantic Textual Similarity\")\n",
    "\n",
    "num_samples = 5\n",
    "off_set = 0\n",
    "\n",
    "plot_similarity(data.iloc[off_set:off_set+num_samples]['cleaned'], embeddings[off_set:off_set+num_samples], 90)"
   ]
  },
  {
   "cell_type": "markdown",
   "metadata": {},
   "source": [
    "# Show neighbours of a comment \n",
    "Define which comment to analyze"
   ]
  },
  {
   "cell_type": "code",
<<<<<<< HEAD
   "execution_count": 28,
=======
   "execution_count": 23,
>>>>>>> 8c148accf8c0e9845ad079be272c86c86e8fcee2
   "metadata": {},
   "outputs": [
    {
     "name": "stdout",
     "output_type": "stream",
     "text": [
      "@ \"Also müssen die Menschen das Recht selbst in die Hand\n",
      "nehmen\" So ist es ( Solange sie sich ans Recht halten und umsetzen). Solange\n",
      "die Sicherheit nicht gegeben ist braucht es Bürgerwehren in jeder Stadt und im\n",
      "jedem Dorf. Natürlich müssen diese Bürgerwehren nach Moral und Gesetz Handeln\n",
      "damit daraus keine Anarchisten werden. Eine gute Zusammenarbeit mit der\n",
      "Polizei muss das Ziel sein.\n",
      "\n",
      "\n"
     ]
    }
   ],
   "source": [
    "comment_index = 324\n",
    "comment = data[\"cleaned\"][comment_index]\n",
    "comment_list = data[\"cleaned\"].tolist()\n",
    "print(comment)"
   ]
  },
  {
   "cell_type": "markdown",
   "metadata": {},
   "source": [
    "Print similar comments."
   ]
  },
  {
   "cell_type": "code",
<<<<<<< HEAD
   "execution_count": 29,
=======
   "execution_count": 24,
>>>>>>> 8c148accf8c0e9845ad079be272c86c86e8fcee2
   "metadata": {},
   "outputs": [
    {
     "name": "stdout",
     "output_type": "stream",
     "text": [
      "Top similar comment 1: @ \"Also müssen die Menschen das Recht selbst in die Hand\n",
      "nehmen\" So ist es ( Solange sie sich ans Recht halten und umsetzen). Solange\n",
      "die Sicherheit nicht gegeben ist braucht es Bürgerwehren in jeder Stadt und im\n",
      "jedem Dorf. Natürlich müssen diese Bürgerwehren nach Moral und Gesetz Handeln\n",
      "damit daraus keine Anarchisten werden. Eine gute Zusammenarbeit mit der\n",
      "Polizei muss das Ziel sein.\n",
      "\n",
      "\n",
      "Top similar comment 2: Menschen die sehr viel Geld besitzen denen wird langweilig. Und so vergehen\n",
      "sie sich an kleinen Kindern weil dass Feiglinge sind.🤮🤮\n",
      "\n",
      "\n",
      "Top similar comment 3: @ Da hät ich doch gern die Fakten dazu, das Herr Janich ein\n",
      "N.... ist ??? Aber davon ab Fakten Sind Fakten, da ist es Völlig egal wer sie\n",
      "In den Raum Stellt^^ Bei uns sagt man zu Menschen wie dir - טיפש מי משקר!\n",
      "\n",
      "\n",
      "Top similar comment 4: @ Sie hätten sich verweigern können. Was für eine unfassbar\n",
      "dämliche Aussage. Kennst du die genauen Hintergründe zu Abläufen der\n",
      "unterschiedlichen Taten? Vielleicht wurde Gewalt angewendet oder aber die\n",
      "Mädchen wurden sediert. Da schon mal drüber nachgedacht, oder reicht die Denke\n",
      "nicht so weit?\n",
      "\n",
      "\n",
      "Top similar comment 5: Man muss gar nicht so weit gehen Sachsensumpf mal Goggeln und durch die\n",
      "offenen Grenzen und kein Schutz für junge Frauen werden nach Deutschland\n",
      "gelockt und zur Prostitution gezwungen. Wenn die Sache vor Gericht kommt wird\n",
      "der Zeuge entsorgt und es gibt kein Gesetz dass diese Mädchen und Frauen\n",
      "schützen kann. Im Gegenteil es hat sich nach Deutschland verlagert.\n",
      "\n",
      "\n",
      "Top similar comment 6: Wenn man hier in Deutschland dieses Thema anspricht wird man komisch\n",
      "angeschaut und dann wird gesagt auch das wird wohl nicht sooo schlimm sein\n",
      "oder komm mir nicht mit dem scheiß.\n",
      "\n",
      "\n",
      "Top similar comment 7: Wir können nicht wissen, ob der Tod ist .Vllt wurde er da rausgeholt und lebt\n",
      "unter einer neuen Identität in einem anderen Land🤮🤮.Aber zum Thema leiden :\n",
      "Ich halte die Karmatheorie für nicht allzu unwahrscheinlich .Ein Herr Epstein\n",
      "wird bekommen , was er verdient !\n",
      "\n",
      "\n",
      "Top similar comment 8: Na was wohl? Sie hätte in sein Beuteschema gepasst. Und sie hat noch ein Herz,\n",
      "das Mitgefühl kennt. Du bist wahrscheinlich abgestumpft, klar, dass dir\n",
      "Mitmenschlichkeit abgeht. Geh hüpfen- fürs Klima oder gegen Rechts, dann\n",
      "fühlst du wenigstens noch irgendwas, auch wenns nur Herzschläge sind.\n",
      "\n",
<<<<<<< HEAD
      "\n",
      "Top similar comment 9: Das ist ein Widerspruch in sich: entweder Vergehen oder Verbrechen -- beides\n",
      "schließt einander aus. Ergo: Unterlasse die verharmlosende Formulierung: \"sich\n",
      "an jemandem vergehen\" (wenn du der Meinung bist, dass es sich um ein\n",
      "Verbrechen handelt)!\n",
      "\n",
      "\n",
      "Top similar comment 10:  Ja, stimmt. Es ist einfach nur fürchterlich und kaum zu ertragen\n",
      "das ganze!! Aber wir müssen da durch. Alle, wirklich alle müssen diese\n",
      "abartigen Gräueltaten sehen und glauben. Dann können wir für die nächsten\n",
      "Generationen vielleicht eine bessere Welt schaffen! Möge Gott uns ALLE\n",
      "beschützen 🙏🏻\n",
      "\n",
      "\n",
      "Top similar comment 11: Menschen haben Mitgefühl und Empathie jedenfalls die meisten, wer dazu nicht\n",
      "mehr fähig ist, der hat das Menschsein verlassen und ist verlassen.\n",
      "\n",
      "\n",
      "Top similar comment 12: Kleiner Nachtrag: Hoffentlich werden die Enthüllungen für die Kidis nicht zu\n",
      "gruselig. Denn selbst gestandene hohe Offiziere und Generäle sind bei der\n",
      "Betrachtung der Satanischen ELITEN zusammen gebrochen....\n",
      "\n",
      "\n",
      "Top similar comment 13: @ Wie kannst Du es wagen Nazis und Menschen die sich kritisch mit\n",
      "dem Klimawandelthema auseinandersetzen so zu vergleichen. Deine Aussage ist\n",
      "menschenverachtend und Du solltest Dich dafür schämen.\n",
      "\n",
      "\n",
      "Top similar comment 14: Das was wichtig wäre wird verschwiegen, dass was breit getreten wird soll uns\n",
      "beschäftigen und davon abhalten selbständig zu denken. Was hindert die Justiz,\n",
      "die Polizei und unsere Regierungen daran, das zu vertreten worauf sie einen\n",
      "Eid geleistet haben? Wir werden beschäftigt mit Nonsens wie dem Klima, dass\n",
      "uns eine 16 jährige näherbringen will und unsere Kinder zum Schuleschwänzen\n",
      "anregt, früher hatte das Folgen. Komisch, warum heute nicht mehr🤔 hinterfragt\n",
      "so wie Naomi. Danke für deine Beiträge!!!!\n",
      "\n",
      "\n",
      "Top similar comment 15: Ja ja Rechte Verschwörungstheorien kennt man ja.  \n",
      "  \n",
      "Komisch dass sich immer mehr solcher Theorien als Fakten bewahrheitem\n",
      "\n",
      "\n",
      "Top similar comment 16: 19👎❓ist euch die Wahrheit nicht wichtig? Oder die Empathie für die Opfer nicht\n",
      "vorhanden weil euch das gut gefällt was denen angetan wurde?  \n",
      "19 kranke Kreaturen , IHR WIDERT MICH AN!!!\n",
      "\n",
      "\n",
      "Top similar comment 17: Das glaube ich nicht! Er sollte zum Schweigen gebracht werden! Sonst ist zu\n",
      "großen Sumpf, der aufgeht und viele werden runter gehen! Damit das nicht\n",
      "passiert haben die von ganz Oben gesorgt! Darum auch Ausfall von Kameras\n",
      "ausgerechnet an diesem Tag!\n",
      "\n",
      "\n",
      "Top similar comment 18: Bitte alle viedeos disliken und melden damit der Kanal gesperrt wird!!!!!! Es\n",
      "ist absolut gefährlich solche faschistichen und rechten Gedanken an junge\n",
      "Leute zu tragen bittee sperrt diesen Kanal!!!!! Es ist doch offensichtlich das\n",
      "hinter den viedeos nicht sie steckt sondern eine Gruppe faschisten!!!!!\n",
      "\n",
      "\n",
      "Top similar comment 19: ich hab es mir schon lange abgewöhnt irgendwelchen elitären gruppen ein wort\n",
      "ohne kritisch zu sein , zu glauben..vermeintlichen sternchen nachzuhecheln....\n",
      "sind auch nur menschen.. aber mit der möglichkeit sich frei zu kaufen.ich will\n",
      "mich nicht mehr einlullen lassen .... und für dumm verkauft werden....\n",
      "letztenendes sitzen die an jenen hebeln die uns manipulieren .... aber diese\n",
      "hebel haben hoffentlich ausgedient und wenigstens müssem wir zusammenhalten\n",
      ".......\n",
      "\n",
      "\n",
      "Top similar comment 20: @ Okay, dann irrt sich wohl der Duden. Kann ja passieren.\n",
      "Schön, dass sie so viel Niveau haben und so schlau sind. \"Das\n",
      "Verschwindenlassen\" kommt von Ihnen selbst ;)\n",
      "\n",
=======
>>>>>>> 8c148accf8c0e9845ad079be272c86c86e8fcee2
      "\n"
     ]
    }
   ],
   "source": [
    "def get_top_similar(sentence, sentence_list, similarity_matrix, topN):\n",
    "    # find the index of sentence in list\n",
    "    index = sentence_list.index(sentence)\n",
    "    # get the corresponding row in similarity matrix\n",
    "    similarity_row = np.array(similarity_matrix[index, :])\n",
    "    # get the indices of top similar\n",
    "    indices = similarity_row.argsort()[-topN:][::-1]\n",
    "    return [sentence_list[i] for i in indices]\n",
    "\n",
    "\n",
    "for i, value in enumerate(get_top_similar(comment, comment_list, cosine_similarity_matrix, 20)):\n",
    "  print(\"Top similar comment {}: {}\".format(i+1, value))"
   ]
  },
  {
   "cell_type": "code",
   "execution_count": null,
   "metadata": {},
   "outputs": [],
   "source": []
  },
  {
   "cell_type": "code",
   "execution_count": null,
   "metadata": {},
   "outputs": [],
   "source": []
  }
 ],
 "metadata": {
  "colab": {
   "collapsed_sections": [],
   "name": "USE_Experiments_new.ipynb",
   "provenance": [],
   "toc_visible": true
  },
  "kernelspec": {
   "display_name": "Python 3",
   "language": "python",
   "name": "python3"
  },
  "language_info": {
   "codemirror_mode": {
    "name": "ipython",
    "version": 3
   },
   "file_extension": ".py",
   "mimetype": "text/x-python",
   "name": "python",
   "nbconvert_exporter": "python",
   "pygments_lexer": "ipython3",
   "version": "3.6.12"
  }
 },
 "nbformat": 4,
 "nbformat_minor": 4
}
